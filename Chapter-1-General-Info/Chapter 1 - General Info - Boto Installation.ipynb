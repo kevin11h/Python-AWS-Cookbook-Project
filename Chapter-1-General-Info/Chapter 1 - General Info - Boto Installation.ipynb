{
 "cells": [
  {
   "cell_type": "markdown",
   "metadata": {},
   "source": [
    "## 1.2 Installing boto"
   ]
  },
  {
   "cell_type": "code",
   "execution_count": null,
   "metadata": {},
   "outputs": [],
   "source": [
    "% git clone https://github.com/boto/boto"
   ]
  },
  {
   "cell_type": "code",
   "execution_count": null,
   "metadata": {},
   "outputs": [],
   "source": [
    "% cd boto"
   ]
  },
  {
   "cell_type": "code",
   "execution_count": null,
   "metadata": {},
   "outputs": [],
   "source": [
    "% sudo python setup.py install"
   ]
  },
  {
   "cell_type": "markdown",
   "metadata": {},
   "source": [
    "### Using Pip\n",
    "\n",
    "`% sudo pip install boto`\n",
    "\n",
    "### Using virtualenv\n",
    "\n",
    "`% virtualenv paws`\n",
    "\n",
    "`% cd paws`\n",
    "\n",
    "`% source bin/activate`\n",
    "\n",
    "`% pip install boto`\n",
    "\n",
    "### Installing paramiko\n",
    "\n",
    "`easy_install paramiko`\n",
    " OR\n",
    " \n",
    " `pip install paramiko`\n",
    " \n",
    " ### Installing euca2ools\n",
    " \n",
    " `sudo apt-get -y euca2ools`\n"
   ]
  },
  {
   "cell_type": "markdown",
   "metadata": {},
   "source": [
    "## 1.3 Managing AWS Credentials"
   ]
  },
  {
   "cell_type": "code",
   "execution_count": null,
   "metadata": {},
   "outputs": [],
   "source": [
    "ec2 = boto.connect_ec2(aws_access_key_id='my_access_key', aws_secret_access_key='my_secret_key')"
   ]
  },
  {
   "cell_type": "markdown",
   "metadata": {},
   "source": [
    "### A Quick Test"
   ]
  },
  {
   "cell_type": "code",
   "execution_count": 2,
   "metadata": {},
   "outputs": [],
   "source": [
    "import boto"
   ]
  },
  {
   "cell_type": "code",
   "execution_count": 4,
   "metadata": {},
   "outputs": [
    {
     "data": {
      "text/plain": [
       "[Zone:us-east-1a,\n",
       " Zone:us-east-1b,\n",
       " Zone:us-east-1c,\n",
       " Zone:us-east-1d,\n",
       " Zone:us-east-1e,\n",
       " Zone:us-east-1f]"
      ]
     },
     "execution_count": 4,
     "metadata": {},
     "output_type": "execute_result"
    }
   ],
   "source": [
    "ec2 = boto.connect_ec2()\n",
    "ec2.get_all_zones()"
   ]
  },
  {
   "cell_type": "markdown",
   "metadata": {},
   "source": [
    "## 1.6 Finding Aailable Regions for AWS"
   ]
  },
  {
   "cell_type": "code",
   "execution_count": 5,
   "metadata": {},
   "outputs": [],
   "source": [
    "import boto.ec2"
   ]
  },
  {
   "cell_type": "code",
   "execution_count": 6,
   "metadata": {},
   "outputs": [
    {
     "data": {
      "text/plain": [
       "[RegionInfo:us-gov-west-1,\n",
       " RegionInfo:sa-east-1,\n",
       " RegionInfo:eu-west-1,\n",
       " RegionInfo:eu-central-1,\n",
       " RegionInfo:ca-central-1,\n",
       " RegionInfo:us-east-1,\n",
       " RegionInfo:us-east-2,\n",
       " RegionInfo:ap-northeast-2,\n",
       " RegionInfo:ap-southeast-1,\n",
       " RegionInfo:us-west-2,\n",
       " RegionInfo:us-west-1,\n",
       " RegionInfo:ap-south-1,\n",
       " RegionInfo:ap-southeast-2,\n",
       " RegionInfo:eu-west-2,\n",
       " RegionInfo:ap-northeast-1,\n",
       " RegionInfo:cn-north-1]"
      ]
     },
     "execution_count": 6,
     "metadata": {},
     "output_type": "execute_result"
    }
   ],
   "source": [
    "boto.ec2.regions()"
   ]
  },
  {
   "cell_type": "code",
   "execution_count": 7,
   "metadata": {},
   "outputs": [],
   "source": [
    "eu_conn = _[0].connect()"
   ]
  },
  {
   "cell_type": "code",
   "execution_count": 8,
   "metadata": {},
   "outputs": [],
   "source": [
    "eu_conn = boto.ec2.connect_to_region('eu-west-1')"
   ]
  },
  {
   "cell_type": "markdown",
   "metadata": {},
   "source": [
    "## 1.7 Enabling Debug Output with boto"
   ]
  },
  {
   "cell_type": "code",
   "execution_count": 9,
   "metadata": {},
   "outputs": [],
   "source": [
    "boto.set_stream_logger('paws')"
   ]
  },
  {
   "cell_type": "code",
   "execution_count": 10,
   "metadata": {},
   "outputs": [
    {
     "name": "stderr",
     "output_type": "stream",
     "text": [
      "2018-12-16 19:34:13,318 paws [DEBUG]:Using access key found in config file.\n",
      "2018-12-16 19:34:13,323 paws [DEBUG]:Using secret key found in config file.\n"
     ]
    }
   ],
   "source": [
    "ec2 = boto.connect_ec2(debug=2)"
   ]
  },
  {
   "cell_type": "code",
   "execution_count": 11,
   "metadata": {},
   "outputs": [
    {
     "name": "stderr",
     "output_type": "stream",
     "text": [
      "2018-12-16 19:34:20,550 paws [DEBUG]:Using access key found in config file.\n",
      "2018-12-16 19:34:20,552 paws [DEBUG]:Using secret key found in config file.\n"
     ]
    }
   ],
   "source": [
    "s3 = boto.connect_s3(debug=2)"
   ]
  },
  {
   "cell_type": "markdown",
   "metadata": {},
   "source": [
    "## 1.8 Controlling Socket Timeouts in boto"
   ]
  },
  {
   "cell_type": "markdown",
   "metadata": {},
   "source": [
    "### Add a section to your `boto` config file\n",
    "\n",
    "`[Boto]\n",
    "http_socket_timeout = 5`"
   ]
  },
  {
   "cell_type": "code",
   "execution_count": null,
   "metadata": {},
   "outputs": [],
   "source": []
  }
 ],
 "metadata": {
  "kernelspec": {
   "display_name": "Python 3",
   "language": "python",
   "name": "python3"
  },
  "language_info": {
   "codemirror_mode": {
    "name": "ipython",
    "version": 3
   },
   "file_extension": ".py",
   "mimetype": "text/x-python",
   "name": "python",
   "nbconvert_exporter": "python",
   "pygments_lexer": "ipython3",
   "version": "3.6.4"
  }
 },
 "nbformat": 4,
 "nbformat_minor": 2
}
